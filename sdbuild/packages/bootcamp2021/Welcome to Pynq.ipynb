{
 "cells": [
  {
   "cell_type": "markdown",
   "metadata": {},
   "source": [
    "# Welcome to PYNQ \n",
    "<div class=\"alert alert-box alert-warning\">\n",
    "<b>PYNQ BootCamp2021 Edition <br>\n",
    "Please run the below bash cell to get the latest version of the PYNQ Bootcamp materials    \n",
    "</div>\n",
    "\n",
    "![ ](./pb_github.png)\n",
    "    "
   ]
  },
  {
   "cell_type": "markdown",
   "metadata": {},
   "source": [
    "--------------"
   ]
  },
  {
   "cell_type": "code",
   "execution_count": null,
   "metadata": {},
   "outputs": [],
   "source": [
    "%%bash\n",
    "git clone https://github.com/Xilinx/PYNQ_Bootcamp pynq_bootcamp"
   ]
  },
  {
   "cell_type": "markdown",
   "metadata": {},
   "source": [
    "<div class=\"alert alert-box alert-warning\">\n",
    "If the above command completes successfully, you will now have a new folder \"pynq_bootcamp\" with teaching materials used in this year's bootcamp.\n",
    "</div>\n",
    "\n"
   ]
  },
  {
   "cell_type": "markdown",
   "metadata": {},
   "source": [
    "--------\n",
    "\n",
    "## Extra Documentation\n",
    "Please see the latest <a href=\"http://pynq.readthedocs.io\">PYNQ Documentation on readthedocs</a>.  \n",
    "\n",
    "## Project webpage and forum\n",
    "You can find details on the <a href=\"http://www.pynq.io\">PYNQ project webpage </a>.\n",
    "\n",
    "## PYNQ GitHub\n",
    "The PYNQ Repository is hosted on github: <a href=\"https://github.com/Xilinx/PYNQ\">PYNQ GitHub Repository</a>.\n",
    "\n",
    "--------"
   ]
  }
 ],
 "metadata": {
  "kernelspec": {
   "display_name": "Python 3",
   "language": "python",
   "name": "python3"
  },
  "language_info": {
   "codemirror_mode": {
    "name": "ipython",
    "version": 3
   },
   "file_extension": ".py",
   "mimetype": "text/x-python",
   "name": "python",
   "nbconvert_exporter": "python",
   "pygments_lexer": "ipython3",
   "version": "3.8.3"
  }
 },
 "nbformat": 4,
 "nbformat_minor": 4
}
