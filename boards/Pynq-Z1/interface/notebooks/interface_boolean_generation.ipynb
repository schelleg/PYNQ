{
 "cells": [
  {
   "cell_type": "markdown",
   "metadata": {
    "deletable": true,
    "editable": true
   },
   "source": [
    "# Boolean Generator\n",
    "\n",
    "This notebook will show how to use the boolean generator to generate boolean logic circuits.\n",
    "\n",
    "Users can switch the input pins between GND and VCC to get different results on output lines.\n",
    "\n",
    "For preparation, we enable `autoreload` for notebook to display waveforms nicely."
   ]
  },
  {
   "cell_type": "code",
   "execution_count": 1,
   "metadata": {
    "collapsed": false,
    "deletable": true,
    "editable": true
   },
   "outputs": [],
   "source": [
    "%load_ext autoreload\n",
    "%autoreload 2"
   ]
  },
  {
   "cell_type": "markdown",
   "metadata": {
    "deletable": true,
    "editable": true
   },
   "source": [
    "### Step 1: Download overlay"
   ]
  },
  {
   "cell_type": "markdown",
   "metadata": {
    "deletable": true,
    "editable": true
   },
   "source": [
    "The Microblaze for the Arduino header on PYNQ-Z1 has ID 3. Calling `request_intf(3)` will instantiate that instance for boolean geneartors to use."
   ]
  },
  {
   "cell_type": "code",
   "execution_count": 2,
   "metadata": {
    "collapsed": false,
    "deletable": true,
    "editable": true
   },
   "outputs": [],
   "source": [
    "from pynq import Overlay\n",
    "from pynq.intf import BooleanGenerator\n",
    "from pynq.intf import request_intf\n",
    "\n",
    "Overlay('interface.bit').download()\n",
    "microblaze_intf = request_intf(3)"
   ]
  },
  {
   "cell_type": "markdown",
   "metadata": {
    "deletable": true,
    "editable": true
   },
   "source": [
    "### Step 2: Implement boolean generators\n",
    "\n",
    "Specify the boolean expressions to be implemented. Note:\n",
    "\n",
    "1. At most 20 boolean expressions can be implemented at the same time.\n",
    "2. Each boolean expression can have exactly 1 output and at most 5 inputs."
   ]
  },
  {
   "cell_type": "code",
   "execution_count": 3,
   "metadata": {
    "collapsed": true,
    "deletable": true,
    "editable": true
   },
   "outputs": [],
   "source": [
    "expressions = [\"D8 = D0\",\n",
    "               \"D9 = D0 & D1\",\n",
    "               \"D10 = D0 & D1 & D2\",\n",
    "               \"D11 = D0 & D1 & D2 & D3\"]"
   ]
  },
  {
   "cell_type": "markdown",
   "metadata": {
    "deletable": true,
    "editable": true
   },
   "source": [
    "Instantiate a few boolean generators sharing the same Microblaze."
   ]
  },
  {
   "cell_type": "code",
   "execution_count": 4,
   "metadata": {
    "collapsed": false,
    "deletable": true,
    "editable": true
   },
   "outputs": [],
   "source": [
    "bgs = [BooleanGenerator(microblaze_intf) for _ in range(len(expressions))]"
   ]
  },
  {
   "cell_type": "markdown",
   "metadata": {
    "deletable": true,
    "editable": true
   },
   "source": [
    "### Step 3: Run and display functions\n",
    "\n",
    "The boolean generators have to be configured and armed before running.\n",
    "\n",
    "At the same time when they are running, users can manually check the logic values on output pins."
   ]
  },
  {
   "cell_type": "code",
   "execution_count": 5,
   "metadata": {
    "collapsed": false,
    "deletable": true,
    "editable": true,
    "scrolled": true
   },
   "outputs": [
    {
     "data": {
      "text/html": [
       "<script type=\"WaveDrom\">{\"signal\": [[\"stimulus\", {\"name\": \"D0\", \"pin\": \"D0\", \"wave\": \"l...............\"}], {}, [\"analysis\", {\"name\": \"D8\", \"pin\": \"D8\", \"wave\": \"l...............\"}]], \"foot\": {\"tick\": 1}, \"head\": {\"tick\": 1, \"text\": \"Boolean Logic Generator (D8 = D0)\"}}</script>"
      ]
     },
     "metadata": {},
     "output_type": "display_data"
    },
    {
     "data": {
      "application/javascript": [
       "$.getScript(\"files/js/WaveDrom.js\", function () {\n",
       "$.getScript(\"files/js/WaveDromSkin.js\", function () {\n",
       "WaveDrom.ProcessAll();});\n",
       "});\n"
      ]
     },
     "metadata": {},
     "output_type": "display_data"
    },
    {
     "data": {
      "text/html": [
       "<script type=\"WaveDrom\">{\"signal\": [[\"stimulus\", {\"name\": \"D0\", \"pin\": \"D0\", \"wave\": \"l...............\"}, {\"name\": \"D1\", \"pin\": \"D1\", \"wave\": \"l...............\"}], {}, [\"analysis\", {\"name\": \"D9\", \"pin\": \"D9\", \"wave\": \"l...............\"}]], \"foot\": {\"tick\": 1}, \"head\": {\"tick\": 1, \"text\": \"Boolean Logic Generator (D9 = D0 & D1)\"}}</script>"
      ]
     },
     "metadata": {},
     "output_type": "display_data"
    },
    {
     "data": {
      "application/javascript": [
       "$.getScript(\"files/js/WaveDrom.js\", function () {\n",
       "$.getScript(\"files/js/WaveDromSkin.js\", function () {\n",
       "WaveDrom.ProcessAll();});\n",
       "});\n"
      ]
     },
     "metadata": {},
     "output_type": "display_data"
    },
    {
     "data": {
      "text/html": [
       "<script type=\"WaveDrom\">{\"signal\": [[\"stimulus\", {\"name\": \"D0\", \"pin\": \"D0\", \"wave\": \"l...............\"}, {\"name\": \"D1\", \"pin\": \"D1\", \"wave\": \"l...............\"}, {\"name\": \"D2\", \"pin\": \"D2\", \"wave\": \"h...............\"}], {}, [\"analysis\", {\"name\": \"D10\", \"pin\": \"D10\", \"wave\": \"l...............\"}]], \"foot\": {\"tick\": 1}, \"head\": {\"tick\": 1, \"text\": \"Boolean Logic Generator (D10 = D0 & D1 & D2)\"}}</script>"
      ]
     },
     "metadata": {},
     "output_type": "display_data"
    },
    {
     "data": {
      "application/javascript": [
       "$.getScript(\"files/js/WaveDrom.js\", function () {\n",
       "$.getScript(\"files/js/WaveDromSkin.js\", function () {\n",
       "WaveDrom.ProcessAll();});\n",
       "});\n"
      ]
     },
     "metadata": {},
     "output_type": "display_data"
    },
    {
     "data": {
      "text/html": [
       "<script type=\"WaveDrom\">{\"signal\": [[\"stimulus\", {\"name\": \"D0\", \"pin\": \"D0\", \"wave\": \"l...............\"}, {\"name\": \"D1\", \"pin\": \"D1\", \"wave\": \"l...............\"}, {\"name\": \"D2\", \"pin\": \"D2\", \"wave\": \"h...............\"}, {\"name\": \"D3\", \"pin\": \"D3\", \"wave\": \"l...............\"}], {}, [\"analysis\", {\"name\": \"D11\", \"pin\": \"D11\", \"wave\": \"l...............\"}]], \"foot\": {\"tick\": 1}, \"head\": {\"tick\": 1, \"text\": \"Boolean Logic Generator (D11 = D0 & D1 & D2 & D3)\"}}</script>"
      ]
     },
     "metadata": {},
     "output_type": "display_data"
    },
    {
     "data": {
      "application/javascript": [
       "$.getScript(\"files/js/WaveDrom.js\", function () {\n",
       "$.getScript(\"files/js/WaveDromSkin.js\", function () {\n",
       "WaveDrom.ProcessAll();});\n",
       "});\n"
      ]
     },
     "metadata": {},
     "output_type": "display_data"
    }
   ],
   "source": [
    "for i in range(len(expressions)):\n",
    "    bgs[i].config(expressions[i])\n",
    "    bgs[i].arm()\n",
    "    bgs[i].run()\n",
    "    bgs[i].display()"
   ]
  },
  {
   "cell_type": "markdown",
   "metadata": {
    "deletable": true,
    "editable": true
   },
   "source": [
    "### Step 4: Stop the boolean generation\n",
    "\n",
    "After `stop()` is called, the boolean generator will still store the waveform data; however, the logic value on its output pin will be cleared."
   ]
  },
  {
   "cell_type": "code",
   "execution_count": 6,
   "metadata": {
    "collapsed": true,
    "deletable": true,
    "editable": true
   },
   "outputs": [],
   "source": [
    "for bg in bgs:\n",
    "    bg.stop()\n",
    "microblaze_intf.reset_buffers()"
   ]
  }
 ],
 "metadata": {
  "kernelspec": {
   "display_name": "Python 3",
   "language": "python",
   "name": "python3"
  },
  "language_info": {
   "codemirror_mode": {
    "name": "ipython",
    "version": 3
   },
   "file_extension": ".py",
   "mimetype": "text/x-python",
   "name": "python",
   "nbconvert_exporter": "python",
   "pygments_lexer": "ipython3",
   "version": "3.6.0"
  }
 },
 "nbformat": 4,
 "nbformat_minor": 1
}
