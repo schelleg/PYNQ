{
 "cells": [
  {
   "cell_type": "markdown",
   "metadata": {},
   "source": [
    "# Boolean Generator Test Notebook\n",
    "\n",
    "Here the boolean generator is tested and waveforms shown.\n",
    "\n",
    "To do interesting testing, the input pins should be switched between GND and VCC to get different results on output lines."
   ]
  },
  {
   "cell_type": "markdown",
   "metadata": {
    "deletable": true,
    "editable": true
   },
   "source": [
    "<h3><font color=\"DarkBlue \"> Step 1: Download overlay</font></h3>"
   ]
  },
  {
   "cell_type": "code",
   "execution_count": 1,
   "metadata": {
    "collapsed": false,
    "deletable": true,
    "editable": true
   },
   "outputs": [],
   "source": [
    "from pynq import Overlay\n",
    "from pynq.intf import BooleanGenerator\n",
    "from pynq.intf import ARDUINO"
   ]
  },
  {
   "cell_type": "code",
   "execution_count": 2,
   "metadata": {
    "collapsed": true
   },
   "outputs": [],
   "source": [
    "Overlay('interface.bit').download()"
   ]
  },
  {
   "cell_type": "markdown",
   "metadata": {
    "deletable": true,
    "editable": true
   },
   "source": [
    "<h3><font color=\"DarkBlue \"> Step 2: Implement Logic</font></h3>"
   ]
  },
  {
   "cell_type": "code",
   "execution_count": 3,
   "metadata": {
    "collapsed": false,
    "deletable": true,
    "editable": true
   },
   "outputs": [],
   "source": [
    "cfg_0 = BooleanGenerator(ARDUINO)\n",
    "cfg_1 = BooleanGenerator(ARDUINO)\n",
    "cfg_2 = BooleanGenerator(ARDUINO)\n",
    "cfg_3 = BooleanGenerator(ARDUINO)\n",
    "\n",
    "# unconnected D* are default 1\n",
    "# unconnected A* are default 0\n",
    "rev_bar = \"D0 & D1 & D2 & D3\" \n",
    "rev     = \"D5 & D6 & D7 & D8\"\n",
    "fwd     = \"A0 = D10 & D11 & D12 & D13\"\n",
    "fwd_bar = \"~A1 & ~A2 & ~A3 & ~A4\"\n",
    "\n",
    "cfg_0.bool_func(rev_bar)\n",
    "cfg_1.bool_func(rev)\n",
    "cfg_2.bool_func(fwd)\n",
    "cfg_3.bool_func(fwd_bar)"
   ]
  },
  {
   "cell_type": "code",
   "execution_count": 4,
   "metadata": {
    "collapsed": false
   },
   "outputs": [
    {
     "data": {
      "text/html": [
       "<script type=\"WaveDrom\">{\"signal\": [[\"stimulus\", {\"name\": \"D0\", \"pin\": \"D0\", \"wave\": \"h...............\"}, {\"name\": \"D1\", \"pin\": \"D1\", \"wave\": \"h...............\"}, {\"name\": \"D2\", \"pin\": \"D2\", \"wave\": \"h...............\"}, {\"name\": \"D3\", \"pin\": \"D3\", \"wave\": \"h...............\"}], [\"response\", {\"name\": \"D4\", \"pin\": \"D4\", \"wave\": \"h...............\"}]], \"foot\": {\"tick\": 1}, \"head\": {\"tick\": 1, \"text\": \"Boolean Logic Generator (D0 & D1 & D2 & D3)\"}}</script>"
      ]
     },
     "metadata": {},
     "output_type": "display_data"
    },
    {
     "data": {
      "application/javascript": [
       "$.getScript(\"files/js/WaveDrom.js\", function () {\n",
       "$.getScript(\"files/js/WaveDromSkin.js\", function () {\n",
       "WaveDrom.ProcessAll();});\n",
       "});\n"
      ]
     },
     "metadata": {},
     "output_type": "display_data"
    },
    {
     "data": {
      "text/html": [
       "<script type=\"WaveDrom\">{\"signal\": [[\"stimulus\", {\"name\": \"D5\", \"pin\": \"D5\", \"wave\": \"h...............\"}, {\"name\": \"D6\", \"pin\": \"D6\", \"wave\": \"h...............\"}, {\"name\": \"D7\", \"pin\": \"D7\", \"wave\": \"h...............\"}, {\"name\": \"D8\", \"pin\": \"D8\", \"wave\": \"h...............\"}], [\"response\", {\"name\": \"D9\", \"pin\": \"D9\", \"wave\": \"h...............\"}]], \"foot\": {\"tick\": 1}, \"head\": {\"tick\": 1, \"text\": \"Boolean Logic Generator (D5 & D6 & D7 & D8)\"}}</script>"
      ]
     },
     "metadata": {},
     "output_type": "display_data"
    },
    {
     "data": {
      "application/javascript": [
       "$.getScript(\"files/js/WaveDrom.js\", function () {\n",
       "$.getScript(\"files/js/WaveDromSkin.js\", function () {\n",
       "WaveDrom.ProcessAll();});\n",
       "});\n"
      ]
     },
     "metadata": {},
     "output_type": "display_data"
    },
    {
     "data": {
      "text/html": [
       "<script type=\"WaveDrom\">{\"signal\": [[\"stimulus\", {\"name\": \"D10\", \"pin\": \"D10\", \"wave\": \"h...............\"}, {\"name\": \"D11\", \"pin\": \"D11\", \"wave\": \"h...............\"}, {\"name\": \"D12\", \"pin\": \"D12\", \"wave\": \"h...............\"}, {\"name\": \"D13\", \"pin\": \"D13\", \"wave\": \"h...............\"}], [\"response\", {\"name\": \"A0\", \"pin\": \"A0\", \"wave\": \"h...............\"}]], \"foot\": {\"tick\": 1}, \"head\": {\"tick\": 1, \"text\": \"Boolean Logic Generator (A0 = D10 & D11 & D12 & D13)\"}}</script>"
      ]
     },
     "metadata": {},
     "output_type": "display_data"
    },
    {
     "data": {
      "application/javascript": [
       "$.getScript(\"files/js/WaveDrom.js\", function () {\n",
       "$.getScript(\"files/js/WaveDromSkin.js\", function () {\n",
       "WaveDrom.ProcessAll();});\n",
       "});\n"
      ]
     },
     "metadata": {},
     "output_type": "display_data"
    },
    {
     "data": {
      "text/html": [
       "<script type=\"WaveDrom\">{\"signal\": [[\"stimulus\", {\"name\": \"A1\", \"pin\": \"A1\", \"wave\": \"h...............\"}, {\"name\": \"A2\", \"pin\": \"A2\", \"wave\": \"l...............\"}, {\"name\": \"A3\", \"pin\": \"A3\", \"wave\": \"l...............\"}, {\"name\": \"A4\", \"pin\": \"A4\", \"wave\": \"l...............\"}], [\"response\", {\"name\": \"A5\", \"pin\": \"A5\", \"wave\": \"l...............\"}]], \"foot\": {\"tick\": 1}, \"head\": {\"tick\": 1, \"text\": \"Boolean Logic Generator (~A1 & ~A2 & ~A3 & ~A4)\"}}</script>"
      ]
     },
     "metadata": {},
     "output_type": "display_data"
    },
    {
     "data": {
      "application/javascript": [
       "$.getScript(\"files/js/WaveDrom.js\", function () {\n",
       "$.getScript(\"files/js/WaveDromSkin.js\", function () {\n",
       "WaveDrom.ProcessAll();});\n",
       "});\n"
      ]
     },
     "metadata": {},
     "output_type": "display_data"
    }
   ],
   "source": [
    "cfg_0.display()\n",
    "cfg_1.display()\n",
    "cfg_2.display()\n",
    "cfg_3.display()"
   ]
  }
 ],
 "metadata": {
  "kernelspec": {
   "display_name": "Python 3",
   "language": "python",
   "name": "python3"
  },
  "language_info": {
   "codemirror_mode": {
    "name": "ipython",
    "version": 3
   },
   "file_extension": ".py",
   "mimetype": "text/x-python",
   "name": "python",
   "nbconvert_exporter": "python",
   "pygments_lexer": "ipython3",
   "version": "3.6.0"
  }
 },
 "nbformat": 4,
 "nbformat_minor": 1
}
