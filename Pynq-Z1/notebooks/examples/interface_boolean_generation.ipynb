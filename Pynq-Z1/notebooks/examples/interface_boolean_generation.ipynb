{
 "cells": [
  {
   "cell_type": "markdown",
   "metadata": {
    "deletable": true,
    "editable": true
   },
   "source": [
    "# Boolean Generator Test Notebook\n",
    "\n",
    "Here the boolean generator is tested and waveforms shown.\n",
    "\n",
    "To do interesting testing, the input pins should be switched between GND and VCC to get different results on output lines."
   ]
  },
  {
   "cell_type": "markdown",
   "metadata": {
    "deletable": true,
    "editable": true
   },
   "source": [
    "<h3><font color=\"DarkBlue \"> Step 1: Download overlay</font></h3>"
   ]
  },
  {
   "cell_type": "code",
   "execution_count": 1,
   "metadata": {
    "collapsed": false,
    "deletable": true,
    "editable": true
   },
   "outputs": [],
   "source": [
    "%load_ext autoreload\n",
    "%autoreload 2"
   ]
  },
  {
   "cell_type": "code",
   "execution_count": 2,
   "metadata": {
    "collapsed": false,
    "deletable": true,
    "editable": true
   },
   "outputs": [],
   "source": [
    "from pynq import Overlay\n",
    "from pynq.intf import BooleanGenerator\n",
    "from pynq.intf import request_intf"
   ]
  },
  {
   "cell_type": "code",
   "execution_count": 3,
   "metadata": {
    "collapsed": false,
    "deletable": true,
    "editable": true
   },
   "outputs": [],
   "source": [
    "Overlay('interface.bit').download()\n",
    "microblaze_intf = request_intf(3)"
   ]
  },
  {
   "cell_type": "markdown",
   "metadata": {
    "deletable": true,
    "editable": true
   },
   "source": [
    "<h3><font color=\"DarkBlue \"> Step 2: Implement Logic</font></h3>"
   ]
  },
  {
   "cell_type": "code",
   "execution_count": 4,
   "metadata": {
    "collapsed": false,
    "deletable": true,
    "editable": true
   },
   "outputs": [],
   "source": [
    "# Instantiate some 5 INPUT functions sharing same Microblaze\n",
    "\n",
    "fx = [\"D8 = D0\",\n",
    "      \"D9 = D0 & D1\",\n",
    "      \"D10 = D0 & D1 & D2\",\n",
    "      \"D11 = D0 & D1 & D2 & D3\"]\n",
    "\n",
    "bgs = [BooleanGenerator(microblaze_intf, f) for f in fx]"
   ]
  },
  {
   "cell_type": "markdown",
   "metadata": {},
   "source": [
    "<h3><font color=\"DarkBlue \"> Step 3: Arm, Run and Display Functions</font></h3>"
   ]
  },
  {
   "cell_type": "code",
   "execution_count": 5,
   "metadata": {
    "collapsed": false,
    "deletable": true,
    "editable": true,
    "scrolled": true
   },
   "outputs": [
    {
     "data": {
      "text/html": [
       "<script type=\"WaveDrom\">{\"signal\": [[\"stimulus\", {\"name\": \"D0\", \"pin\": \"D0\", \"wave\": \"h...............\"}], [\"response\", {\"name\": \"D8\", \"pin\": \"D8\", \"wave\": \"h...............\"}]], \"foot\": {\"tick\": 1}, \"head\": {\"tick\": 1, \"text\": \"Boolean Logic Generator (D8 = D0)\"}}</script>"
      ]
     },
     "metadata": {},
     "output_type": "display_data"
    },
    {
     "data": {
      "application/javascript": [
       "$.getScript(\"files/js/WaveDrom.js\", function () {\n",
       "$.getScript(\"files/js/WaveDromSkin.js\", function () {\n",
       "WaveDrom.ProcessAll();});\n",
       "});\n"
      ]
     },
     "metadata": {},
     "output_type": "display_data"
    },
    {
     "data": {
      "text/html": [
       "<script type=\"WaveDrom\">{\"signal\": [[\"stimulus\", {\"name\": \"D0\", \"pin\": \"D0\", \"wave\": \"h...............\"}, {\"name\": \"D1\", \"pin\": \"D1\", \"wave\": \"h...............\"}], [\"response\", {\"name\": \"D9\", \"pin\": \"D9\", \"wave\": \"h...............\"}]], \"foot\": {\"tick\": 1}, \"head\": {\"tick\": 1, \"text\": \"Boolean Logic Generator (D9 = D0 & D1 )\"}}</script>"
      ]
     },
     "metadata": {},
     "output_type": "display_data"
    },
    {
     "data": {
      "application/javascript": [
       "$.getScript(\"files/js/WaveDrom.js\", function () {\n",
       "$.getScript(\"files/js/WaveDromSkin.js\", function () {\n",
       "WaveDrom.ProcessAll();});\n",
       "});\n"
      ]
     },
     "metadata": {},
     "output_type": "display_data"
    },
    {
     "data": {
      "text/html": [
       "<script type=\"WaveDrom\">{\"signal\": [[\"stimulus\", {\"name\": \"D0\", \"pin\": \"D0\", \"wave\": \"h...............\"}, {\"name\": \"D1\", \"pin\": \"D1\", \"wave\": \"h...............\"}, {\"name\": \"D2\", \"pin\": \"D2\", \"wave\": \"h...............\"}], [\"response\", {\"name\": \"D10\", \"pin\": \"D10\", \"wave\": \"h...............\"}]], \"foot\": {\"tick\": 1}, \"head\": {\"tick\": 1, \"text\": \"Boolean Logic Generator (D10 = D0 & D1 & D2)\"}}</script>"
      ]
     },
     "metadata": {},
     "output_type": "display_data"
    },
    {
     "data": {
      "application/javascript": [
       "$.getScript(\"files/js/WaveDrom.js\", function () {\n",
       "$.getScript(\"files/js/WaveDromSkin.js\", function () {\n",
       "WaveDrom.ProcessAll();});\n",
       "});\n"
      ]
     },
     "metadata": {},
     "output_type": "display_data"
    },
    {
     "data": {
      "text/html": [
       "<script type=\"WaveDrom\">{\"signal\": [[\"stimulus\", {\"name\": \"D0\", \"pin\": \"D0\", \"wave\": \"h...............\"}, {\"name\": \"D1\", \"pin\": \"D1\", \"wave\": \"h...............\"}, {\"name\": \"D2\", \"pin\": \"D2\", \"wave\": \"h...............\"}, {\"name\": \"D3\", \"pin\": \"D3\", \"wave\": \"h...............\"}], [\"response\", {\"name\": \"D11\", \"pin\": \"D11\", \"wave\": \"h...............\"}]], \"foot\": {\"tick\": 1}, \"head\": {\"tick\": 1, \"text\": \"Boolean Logic Generator (D11 = D0 & D1 & D2 & D3)\"}}</script>"
      ]
     },
     "metadata": {},
     "output_type": "display_data"
    },
    {
     "data": {
      "application/javascript": [
       "$.getScript(\"files/js/WaveDrom.js\", function () {\n",
       "$.getScript(\"files/js/WaveDromSkin.js\", function () {\n",
       "WaveDrom.ProcessAll();});\n",
       "});\n"
      ]
     },
     "metadata": {},
     "output_type": "display_data"
    }
   ],
   "source": [
    "for bg in bgs:\n",
    "    bg.arm()\n",
    "\n",
    "microblaze_intf.run()\n",
    "\n",
    "for bg in bgs:\n",
    "    bg.display()"
   ]
  }
 ],
 "metadata": {
  "kernelspec": {
   "display_name": "Python 3",
   "language": "python",
   "name": "python3"
  },
  "language_info": {
   "codemirror_mode": {
    "name": "ipython",
    "version": 3
   },
   "file_extension": ".py",
   "mimetype": "text/x-python",
   "name": "python",
   "nbconvert_exporter": "python",
   "pygments_lexer": "ipython3",
   "version": "3.6.0"
  }
 },
 "nbformat": 4,
 "nbformat_minor": 1
}
